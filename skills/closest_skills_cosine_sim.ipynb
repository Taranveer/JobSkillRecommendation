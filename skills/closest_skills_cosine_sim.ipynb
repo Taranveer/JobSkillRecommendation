{
 "cells": [
  {
   "cell_type": "code",
   "execution_count": 1,
   "metadata": {
    "collapsed": true
   },
   "outputs": [],
   "source": [
    "import pickle as pk\n",
    "import numpy as np"
   ]
  },
  {
   "cell_type": "code",
   "execution_count": 66,
   "metadata": {
    "collapsed": true
   },
   "outputs": [],
   "source": [
    "def find_closest_skills(co_matrix,idx,index_skill):\n",
    "    closest_skills = list(np.dot(co_matrix,co_matrix[idx]))\n",
    "    closest_indexes = np.argsort(closest_skills)[::-1]\n",
    "    skills = []\n",
    "    for i in range(10):\n",
    "        skills.append(index_skill[closest_indexes[i]])\n",
    "    return skills\n"
   ]
  },
  {
   "cell_type": "code",
   "execution_count": 74,
   "metadata": {},
   "outputs": [
    {
     "name": "stdout",
     "output_type": "stream",
     "text": [
      "python\n",
      "['python', 'debian', 'redis', 'haskell', 'flask', 'mercurial', 'artificial intelligence', 'opengl', 'sqlite', 'lamp']\n"
     ]
    }
   ],
   "source": [
    "#enter a skill to find recommended skills which are closest to the given skill\n",
    "skill = input()\n",
    "# read a dimensionally reduced skills matrix\n",
    "with open(\"C:\\\\github\\\\laeds\\\\JobSkillRecommendation\\\\skills\\\\SVD_U.pkl\",\"rb\") as f:\n",
    "    co_matrix = pk.load(f)\n",
    "\n",
    "# read skill-index mappings\n",
    "with open(\"C:\\\\github\\\\laeds\\\\JobSkillRecommendation\\\\skills\\\\skill_2_index_mapping_pickle.pkl\",\"rb\") as f:\n",
    "    skill_index = pk.load(f)\n",
    "    \n",
    "# read index - skill mappings\n",
    "with open(\"C:\\\\github\\\\laeds\\\\JobSkillRecommendation\\\\skills\\\\index_2_skill_mapping_pickle.pkl\",\"rb\") as f:\n",
    "    index_skill = pk.load(f)\n",
    "\n",
    "# normalize co_matrix\n",
    "# co_matrix = co_matrix/co_matrix.sum(axis=1)[:,None]\n",
    "idx = skill_index[skill]\n",
    "\n",
    "closest_skills = find_closest_skills(co_matrix,idx,index_skill)\n",
    "print(closest_skills)"
   ]
  },
  {
   "cell_type": "code",
   "execution_count": null,
   "metadata": {
    "collapsed": true
   },
   "outputs": [],
   "source": []
  }
 ],
 "metadata": {
  "kernelspec": {
   "display_name": "Python 3",
   "language": "python",
   "name": "python3"
  },
  "language_info": {
   "codemirror_mode": {
    "name": "ipython",
    "version": 3
   },
   "file_extension": ".py",
   "mimetype": "text/x-python",
   "name": "python",
   "nbconvert_exporter": "python",
   "pygments_lexer": "ipython3",
   "version": "3.6.3"
  }
 },
 "nbformat": 4,
 "nbformat_minor": 2
}
